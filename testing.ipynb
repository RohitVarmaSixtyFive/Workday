{
 "cells": [
  {
   "cell_type": "markdown",
   "id": "1d605255",
   "metadata": {},
   "source": [
    "- TelaDoc : No authentication (https://teladoc.wd1.myworkdayjobs.com/en-US/teladochealth_is_hiring/job/Remote---USA/Data-Scientist-II--JR18761-Data-Scientist-II--Instrumentation---Experimentation_JR18786?source=LinkedIn_Jobs)\n",
    "- EverFox - Application not found\n",
    "- wabtec- Redirects to a technical assesment application\n",
    "- Brodcom - required email verification\n"
   ]
  },
  {
   "cell_type": "code",
   "execution_count": null,
   "id": "2b740130",
   "metadata": {},
   "outputs": [],
   "source": []
  }
 ],
 "metadata": {
  "kernelspec": {
   "display_name": "jobauto",
   "language": "python",
   "name": "python3"
  },
  "language_info": {
   "codemirror_mode": {
    "name": "ipython",
    "version": 3
   },
   "file_extension": ".py",
   "mimetype": "text/x-python",
   "name": "python",
   "nbconvert_exporter": "python",
   "pygments_lexer": "ipython3",
   "version": "3.12.11"
  }
 },
 "nbformat": 4,
 "nbformat_minor": 5
}
